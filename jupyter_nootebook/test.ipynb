{
 "cells": [
  {
   "cell_type": "code",
   "execution_count": 50,
   "id": "1f82fdff",
   "metadata": {},
   "outputs": [],
   "source": [
    "import os, mimetypes, hashlib\n",
    "from typing import Iterator, Tuple"
   ]
  },
  {
   "cell_type": "code",
   "execution_count": 87,
   "id": "f6862e8d",
   "metadata": {},
   "outputs": [],
   "source": [
    "SUPPORTED_EXT = {\".pdf\", \".txt\", \".md\"}\n",
    "\n",
    "def iter_paths(root: str) -> Iterator[str]:\n",
    "    print(\"inittttt\",root)\n",
    "    if os.path.isfile(root):\n",
    "        print(\"fiileeeeeeee\",root)\n",
    "        yield root\n",
    "        return\n",
    "    for dirpath, _, filenames in os.walk(root):\n",
    "        print(\"folderrrrr\",root)\n",
    "        for name in filenames:\n",
    "\n",
    "            p = os.path.join(dirpath, name)\n",
    "            ext = os.path.splitext(name)[1].lower()\n",
    "            if ext in SUPPORTED_EXT:\n",
    "                yield p\n",
    "\n"
   ]
  },
  {
   "cell_type": "code",
   "execution_count": 88,
   "id": "1f08d24a",
   "metadata": {},
   "outputs": [
    {
     "name": "stdout",
     "output_type": "stream",
     "text": [
      "inittttt D:\\GEN_AI\\Agentic_Rag_Services\\docs\n",
      "folderrrrr D:\\GEN_AI\\Agentic_Rag_Services\\docs\n",
      "D:\\GEN_AI\\Agentic_Rag_Services\\docs\\final_report.pdf\n"
     ]
    }
   ],
   "source": [
    "temp= iter_paths(\"D:\\GEN_AI\\Agentic_Rag_Services\\docs\")\n",
    "print(next(temp))\n",
    "# print(list(temp))"
   ]
  },
  {
   "cell_type": "code",
   "execution_count": null,
   "id": "b077529a",
   "metadata": {},
   "outputs": [
    {
     "name": "stdout",
     "output_type": "stream",
     "text": [
      "39b061720a8d10349950568f12cf718db374a7cc48941cdbf5cd132eda02b8ff\n"
     ]
    }
   ],
   "source": [
    "import hashlib\n",
    "\n",
    "text = \"hello \"\n",
    "hash_object = hashlib.sha256(text.encode())\n",
    "print(hash_object.hexdigest())\n"
   ]
  },
  {
   "cell_type": "code",
   "execution_count": 93,
   "id": "514fec42",
   "metadata": {},
   "outputs": [
    {
     "data": {
      "text/plain": [
       "64"
      ]
     },
     "execution_count": 93,
     "metadata": {},
     "output_type": "execute_result"
    }
   ],
   "source": [
    "len(\"39b061720a8d10349950568f12cf718db374a7cc48941cdbf5cd132eda02b8ff\")"
   ]
  },
  {
   "cell_type": "code",
   "execution_count": 7,
   "id": "bcb43026",
   "metadata": {},
   "outputs": [
    {
     "name": "stdout",
     "output_type": "stream",
     "text": [
      "1 2\n"
     ]
    }
   ],
   "source": [
    "def outer():\n",
    "    hidden = 0\n",
    "    def inner():\n",
    "        nonlocal hidden\n",
    "        hidden += 1\n",
    "        return hidden\n",
    "    return inner\n",
    "\n",
    "counter = outer()\n",
    "print(counter(), counter())    # 1 2\n"
   ]
  },
  {
   "cell_type": "code",
   "execution_count": 10,
   "id": "1e1d8093",
   "metadata": {},
   "outputs": [
    {
     "name": "stdout",
     "output_type": "stream",
     "text": [
      "1\n"
     ]
    }
   ],
   "source": [
    "print(outer()())"
   ]
  },
  {
   "cell_type": "code",
   "execution_count": 11,
   "id": "26de5261",
   "metadata": {},
   "outputs": [
    {
     "name": "stdout",
     "output_type": "stream",
     "text": [
      "before\n",
      "Hello Ada\n",
      "after\n"
     ]
    }
   ],
   "source": [
    "def simple_decorator(func):\n",
    "    def wrapper(*args, **kwargs):\n",
    "        print(\"before\")\n",
    "        value = func(*args, **kwargs)\n",
    "        print(\"after\")\n",
    "        return value\n",
    "    return wrapper\n",
    "\n",
    "@simple_decorator           # syntactic sugar: greet = simple_decorator(greet)\n",
    "def greet(name):\n",
    "    print(f\"Hello {name}\")\n",
    "\n",
    "greet(\"Ada\")\n"
   ]
  },
  {
   "cell_type": "code",
   "execution_count": null,
   "id": "c7a37026",
   "metadata": {},
   "outputs": [],
   "source": []
  }
 ],
 "metadata": {
  "kernelspec": {
   "display_name": "medbot",
   "language": "python",
   "name": "python3"
  },
  "language_info": {
   "codemirror_mode": {
    "name": "ipython",
    "version": 3
   },
   "file_extension": ".py",
   "mimetype": "text/x-python",
   "name": "python",
   "nbconvert_exporter": "python",
   "pygments_lexer": "ipython3",
   "version": "3.10.16"
  }
 },
 "nbformat": 4,
 "nbformat_minor": 5
}
